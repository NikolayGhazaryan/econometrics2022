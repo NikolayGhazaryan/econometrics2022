{
 "cells": [
  {
   "cell_type": "code",
   "execution_count": 3,
   "metadata": {},
   "outputs": [
    {
     "name": "stdout",
     "output_type": "stream",
     "text": [
      "es im anush hayastani\n"
     ]
    }
   ],
   "source": [
    "a = \"Es im anush Hayastani\"\n",
    "q = a.upper()\n",
    "z = q.lower()\n",
    "print(z)\n"
   ]
  },
  {
   "cell_type": "code",
   "execution_count": 1,
   "metadata": {},
   "outputs": [
    {
     "name": "stdout",
     "output_type": "stream",
     "text": [
      "21\n"
     ]
    }
   ],
   "source": [
    "a = 7\n",
    "b = 3\n",
    "c = a * b\n",
    "print(c)"
   ]
  },
  {
   "cell_type": "code",
   "execution_count": 4,
   "metadata": {},
   "outputs": [
    {
     "name": "stdout",
     "output_type": "stream",
     "text": [
      "vffvvhhhv\n"
     ]
    }
   ],
   "source": [
    "a = \"hgvhgfvgfghvghvgkhvghcghfgvhg\"\n",
    "print(a[2::3])"
   ]
  },
  {
   "cell_type": "code",
   "execution_count": 5,
   "metadata": {},
   "outputs": [
    {
     "name": "stdout",
     "output_type": "stream",
     "text": [
      "mer hin sazi voxpanvag, mer hin sazi voxpanvag, mer hin sazi voxpanvag\n"
     ]
    }
   ],
   "source": [
    "w = \"arevaham barn em sirum, mer hin sazi voxpanvag, arevaham barn em sirum\"\n",
    "k = w.replace(\"arevaham barn em sirum\", \"mer hin sazi voxpanvag\")\n",
    "print(k)"
   ]
  },
  {
   "cell_type": "code",
   "execution_count": 6,
   "metadata": {},
   "outputs": [
    {
     "name": "stdout",
     "output_type": "stream",
     "text": [
      "9\n"
     ]
    }
   ],
   "source": [
    "c = \"arnanman caxikneri u varderi buyr@ varman\"\n",
    "n = c.find(\"caxikneri\") \n",
    "print(n)"
   ]
  },
  {
   "cell_type": "code",
   "execution_count": 7,
   "metadata": {},
   "outputs": [
    {
     "name": "stdout",
     "output_type": "stream",
     "text": [
      "43\n"
     ]
    }
   ],
   "source": [
    "c = \"u nairyan axjikneri hezachkun parn em sirum\"\n",
    "d = len(c)\n",
    "print(d)\n"
   ]
  },
  {
   "cell_type": "code",
   "execution_count": null,
   "metadata": {},
   "outputs": [],
   "source": []
  }
 ],
 "metadata": {
  "interpreter": {
   "hash": "25028bd30d2fe24996d531df5b473f60cacb100dee408ced37f662b6434b2a88"
  },
  "kernelspec": {
   "display_name": "Python 3.9.7 ('base')",
   "language": "python",
   "name": "python3"
  },
  "language_info": {
   "codemirror_mode": {
    "name": "ipython",
    "version": 3
   },
   "file_extension": ".py",
   "mimetype": "text/x-python",
   "name": "python",
   "nbconvert_exporter": "python",
   "pygments_lexer": "ipython3",
   "version": "3.9.7"
  },
  "orig_nbformat": 4
 },
 "nbformat": 4,
 "nbformat_minor": 2
}
